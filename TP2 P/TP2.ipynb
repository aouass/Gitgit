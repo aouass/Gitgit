{
 "cells": [
  {
   "cell_type": "code",
   "execution_count": 26,
   "id": "66520a4e",
   "metadata": {},
   "outputs": [],
   "source": [
    "import pandas as pd\n",
    "import numpy as np\n",
    "import matplotlib as mpl\n",
    "import matplotlib.pyplot as plt\n"
   ]
  },
  {
   "cell_type": "markdown",
   "id": "cbc0464a",
   "metadata": {},
   "source": [
    "# A partir du jeu de données original, créer:\n",
    "\n",
    "## un Dataframe comportant tous les modules en précisant l’effectif des apprenants, le nombre total de sessions, le score maximal, le score minimal, le taux de réussite (pour les apprenants des scores > 50)\n",
    "\n",
    "## un tableau 2D Numpy avec les données des 10 tops modules selon les taux de réussites (Chaque ligne représente un module)\n"
   ]
  },
  {
   "cell_type": "code",
   "execution_count": 101,
   "id": "f82ab99c",
   "metadata": {},
   "outputs": [],
   "source": [
    "class DATAFRAME:\n",
    "\n",
    "    def __init__ (self,cheminDATA):\n",
    "        \n",
    "        self.DATA_INIT=pd.read_csv(cheminDATA, delimiter=\";\")\n",
    "        \n",
    "    \n",
    "    def moduleDAT(self):\n",
    "        \n",
    "        \n",
    "        actor=self.DATA_INIT.groupby('object_id').actor.nunique()\n",
    "        session_id=self.DATA_INIT.groupby('object_id').session_uuid.count()\n",
    "        score_min=self.DATA_INIT.groupby('object_id').score.min()\n",
    "        score_max=self.DATA_INIT.groupby('object_id').score.max()\n",
    "        DATAFRAME_MODULE=pd.DataFrame({'actor':actor,'session_uuid':session_id,'score_min':score_min,'score_max':score_max})\n",
    "        SCORE_SUP50=self.DATA_INIT[self.DATA_INIT['score' ] >=50]\n",
    "        nbre_reussite=SCORE_SUP50.groupby(['object_id','actor']).score.max()\n",
    "        nbre_reussite=nbre_reussite.reset_index()\n",
    "        nbre_r=nbre_reussite.groupby('object_id').score.count()\n",
    "        taux_reussite=(nbre_r/actor)*100\n",
    "        taux_reussite.sort_values(ascending = False)\n",
    "        DATAFRAME_MODULE['taux_reussite']=taux_reussite\n",
    "        DATAFRAME_MODULE['taux_reussite']=DATAFRAME_MODULE['taux_reussite'].fillna(0)\n",
    "\n",
    "        return  DATAFRAME_MODULE\n",
    "    \n",
    "\n",
    "\n",
    "\n",
    "\n",
    "    def TOPTRI10(self):\n",
    "        DATAFRAME_MODULE= self.moduleDAT()\n",
    "    \n",
    "        TRI_MODULE=DATAFRAME_MODULE.sort_values(by='taux_reussite', ascending=False)\n",
    "        TOP10_MODULE=TRI_MODULE.head(10)\n",
    "        return  TOP10_MODULE\n",
    "    \n",
    "    \n",
    "    def TOPTRI(self):\n",
    "        DATAFRAME_MODULE=self.moduleDAT()\n",
    "        TRI_MODULE=DATAFRAME_MODULE.sort_values(by='taux_reussite', ascending=False)\n",
    "        TOP3_MODULE=TRI_MODULE.head(3)\n",
    "        return  TOP3_MODULE\n",
    "    \n",
    "    def nump(self,T):\n",
    "        \n",
    "        TOP_T=T.to_numpy()\n",
    "        return TOP_T\n",
    "    \n",
    "    \n",
    "    \n",
    "    def MODULE_INFO(self,object_id):\n",
    "        \n",
    "        \n",
    "        tmp = self.DATA_INIT.loc[self.DATA_INIT.object_id==object_id].groupby('actor').agg({'session_uuid':'count','score':'max','temps':'sum'})\n",
    "        tmp['resultat'] =0\n",
    "        tmp.loc[tmp['score']>=50,'resultat']=1\n",
    "        tmp['temps']=tmp['temps']/60\n",
    "\n",
    "        return tmp\n",
    "    \n",
    "\n",
    "    def GRAPH_TOP10(self,R):\n",
    "        \n",
    "        plt.figure(figsize=(10,5))\n",
    "        for i in range(len(R.index)):\n",
    "            nbre_temps=round(self.DATA_INIT.loc[(self.DATA_INIT['object_id']==R.index[i])].groupby('actor').agg({'temps':'sum'})/60,2)\n",
    "            nbre_score=self.DATA_INIT.loc[(self.DATA_INIT['object_id']==R.index[i])].groupby('actor').agg({'score':'max'})\n",
    "            DATA_TOP10=pd.DataFrame({'score':nbre_score.score,'temps':nbre_temps.temps})\n",
    "            DATA_TOP10=DATA_TOP10.sort_values(by='temps', ascending=False )\n",
    "            plt.plot(DATA_TOP10['temps'],DATA_TOP10['score'],label=R.index[i])\n",
    "        plt.legend()\n",
    "\n",
    "        plt.show()\n",
    "        return DATA_TOP10\n",
    "    \n",
    "    \n",
    "    def GRAPH_B(self):\n",
    "        \n",
    "        fig, ax = plt.subplots(figsize=(10, 4), layout='constrained')\n",
    "        categories = ['752-etudes-de-cas-et-questions','734-risques-psychosociaux',\n",
    "                  '819-informatique','755-verhalten-des-mitarbeitenden','761-fallstudien-und-fragen',\n",
    "                  '765-urlaub','766-unbezahlter-urlaub','729-salaire',\n",
    "                  '747-modification-des-rapports-de-travail','736-conge-non-paye']\n",
    "\n",
    "\n",
    "        ax.bar(categories, DATATOP[\"taux_reussite\"]);\n",
    "        \n",
    "        \n",
    "        \n",
    "    def GRAPH_TOP3(self,object):\n",
    "       \n",
    "   \n",
    "        nbre_score= self.DATA_INIT.loc[self.DATA_INIT['object_id']==object].groupby('actor').agg({'score':'max'})\n",
    "        nbre_score=nbre_score.sort_values(by=['score'],ascending=False)\n",
    "        nbre_score['rang']=[i for i in range(1,len(nbre_score)+1)]\n",
    "        nbre_score.reset_index()\n",
    "        nbre=nbre_score.to_numpy()\n",
    "        y=nbre[:,0]\n",
    "        x=nbre[:,1]\n",
    "\n",
    "        return x,y\n",
    "    \n",
    "    def RAPPEL(self,F):\n",
    "        \n",
    "    \n",
    "        fig,axs= plt.subplots(3,1,figsize=(10,5))\n",
    "\n",
    "        for i in range(0,F.index.size):\n",
    "\n",
    "            x,y=self.GRAPH_TOP3(F.index[i])\n",
    "            axs[i].plot(x,y,label=F.index[i])\n",
    "            axs[i].set_title(F.index[i])\n",
    "            axs[i].set_xlabel('rang')\n",
    "            axs[i].set_ylabel('score')\n",
    "        \n",
    "    def GRAPH_NUAGE(self):\n",
    "        \n",
    "        dfi =self.DATA_INIT.groupby('object_id').agg({'temps':'sum'})/60\n",
    "        fig, ax = plt.subplots(figsize=(10, 10))\n",
    "    \n",
    "        dfi['rang']=[i for i in range(1,self.moduleDAT().taux_reussite.size +1)]\n",
    "        data =dfi.to_numpy().T\n",
    "        ax.scatter(data[1],data[0], s=100, facecolor='C0', edgecolor='k');  \n",
    "        \n",
    "        \n",
    "    def GRAPH_PI(self):\n",
    "        \n",
    "        module_count=self.moduleDAT().size\n",
    "        module_count\n",
    "        classe_A =self.moduleDAT().loc[self.moduleDAT()['taux_reussite']>=80].size\n",
    "        classe_B =self.moduleDAT().loc[(self.moduleDAT()['taux_reussite']>=60)&(self.moduleDAT()['taux_reussite']<80)].size\n",
    "        classe_C =self.moduleDAT().loc[(self.moduleDAT()['taux_reussite']>=50)&(self.moduleDAT()['taux_reussite']<60)].size\n",
    "        classe_D =self.moduleDAT().loc[self.moduleDAT()['taux_reussite']<50].size\n",
    "        classe_A=classe_A/module_count\n",
    "        classe_B=classe_B/module_count\n",
    "        classe_C=classe_C/module_count\n",
    "        classe_D=classe_D/module_count\n",
    "        classes=np.array([classe_A,classe_B,classe_C,classe_D])\n",
    "        classes\n",
    "        label=['classe_A','classe_B','classe_C','classe_D']\n",
    "\n",
    "        plt.pie(classes, labels=label,autopct='%1.1f%%')\n",
    "        plt.legend()\n",
    "        plt.show()\n",
    "\n",
    "\n",
    "\n",
    "\n"
   ]
  },
  {
   "cell_type": "code",
   "execution_count": 109,
   "id": "82329c58",
   "metadata": {},
   "outputs": [],
   "source": [
    "FRAME=DATAFRAME(\"scorm_tracking_copy.csv\")\n",
    "# FRAME.moduleDAT()"
   ]
  },
  {
   "cell_type": "code",
   "execution_count": 110,
   "id": "f187f43f",
   "metadata": {},
   "outputs": [],
   "source": [
    "# FRAME.TOPTRI10()"
   ]
  },
  {
   "cell_type": "code",
   "execution_count": 111,
   "id": "45f8b261",
   "metadata": {
    "scrolled": true
   },
   "outputs": [],
   "source": [
    "# FRAME.MODULE_INFO('828-quiz')"
   ]
  },
  {
   "cell_type": "code",
   "execution_count": 112,
   "id": "0111d9e8",
   "metadata": {},
   "outputs": [],
   "source": [
    "# FRAME.GRAPH_TOP10(FRAME.TOPTRI10())"
   ]
  },
  {
   "cell_type": "code",
   "execution_count": 113,
   "id": "2132000f",
   "metadata": {
    "scrolled": true
   },
   "outputs": [],
   "source": [
    "# FRAME.GRAPH_B()"
   ]
  },
  {
   "cell_type": "code",
   "execution_count": 114,
   "id": "b57a325a",
   "metadata": {
    "scrolled": true
   },
   "outputs": [],
   "source": [
    "# FRAME.GRAPH_NUAGE()"
   ]
  },
  {
   "cell_type": "code",
   "execution_count": 115,
   "id": "4039d149",
   "metadata": {},
   "outputs": [],
   "source": [
    "# FRAME.GRAPH_PI()"
   ]
  },
  {
   "cell_type": "code",
   "execution_count": 107,
   "id": "817c2770",
   "metadata": {
    "scrolled": true
   },
   "outputs": [],
   "source": [
    "# FRAME.TOPTRI()"
   ]
  },
  {
   "cell_type": "code",
   "execution_count": 116,
   "id": "1a54b9b7",
   "metadata": {},
   "outputs": [],
   "source": [
    "# FRAME.RAPPEL(FRAME.TOPTRI())"
   ]
  }
 ],
 "metadata": {
  "kernelspec": {
   "display_name": "Python 3 (ipykernel)",
   "language": "python",
   "name": "python3"
  },
  "language_info": {
   "codemirror_mode": {
    "name": "ipython",
    "version": 3
   },
   "file_extension": ".py",
   "mimetype": "text/x-python",
   "name": "python",
   "nbconvert_exporter": "python",
   "pygments_lexer": "ipython3",
   "version": "3.9.13"
  }
 },
 "nbformat": 4,
 "nbformat_minor": 5
}
