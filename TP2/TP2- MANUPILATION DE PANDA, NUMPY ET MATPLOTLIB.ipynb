{
 "cells": [
  {
   "cell_type": "code",
   "execution_count": 43,
   "id": "d0b145c3",
   "metadata": {},
   "outputs": [
    {
     "data": {
      "text/html": [
       "<div>\n",
       "<style scoped>\n",
       "    .dataframe tbody tr th:only-of-type {\n",
       "        vertical-align: middle;\n",
       "    }\n",
       "\n",
       "    .dataframe tbody tr th {\n",
       "        vertical-align: top;\n",
       "    }\n",
       "\n",
       "    .dataframe thead th {\n",
       "        text-align: right;\n",
       "    }\n",
       "</style>\n",
       "<table border=\"1\" class=\"dataframe\">\n",
       "  <thead>\n",
       "    <tr style=\"text-align: right;\">\n",
       "      <th></th>\n",
       "      <th>id</th>\n",
       "      <th>actor</th>\n",
       "      <th>session_uuid</th>\n",
       "      <th>object_id</th>\n",
       "      <th>activity_type</th>\n",
       "      <th>progression</th>\n",
       "      <th>score</th>\n",
       "      <th>temps</th>\n",
       "      <th>total_ecrans</th>\n",
       "      <th>created</th>\n",
       "      <th>modified</th>\n",
       "      <th>learning_object</th>\n",
       "      <th>processed</th>\n",
       "    </tr>\n",
       "  </thead>\n",
       "  <tbody>\n",
       "    <tr>\n",
       "      <th>0</th>\n",
       "      <td>1</td>\n",
       "      <td>ga2018_umbe@yopmail.com</td>\n",
       "      <td>session-20</td>\n",
       "      <td>694-vorstellung</td>\n",
       "      <td>lesson</td>\n",
       "      <td>1.0</td>\n",
       "      <td>100.0</td>\n",
       "      <td>589.0</td>\n",
       "      <td>8</td>\n",
       "      <td>2016-08-25 17:22:56</td>\n",
       "      <td>2016-08-25 17:32:58</td>\n",
       "      <td>{\"learner_id\":\"\",\"progress_measure\":\"1.00\",\"co...</td>\n",
       "      <td>0</td>\n",
       "    </tr>\n",
       "    <tr>\n",
       "      <th>1</th>\n",
       "      <td>2</td>\n",
       "      <td>dtic@mobiletic.com</td>\n",
       "      <td>session-33</td>\n",
       "      <td>683-programme-nescens</td>\n",
       "      <td>lesson</td>\n",
       "      <td>1.0</td>\n",
       "      <td>0.0</td>\n",
       "      <td>6194.0</td>\n",
       "      <td>2</td>\n",
       "      <td>2016-08-25 17:27:34</td>\n",
       "      <td>2017-11-02 15:40:38</td>\n",
       "      <td>{\"learner_id\":\"\",\"progress_measure\":\"1.00\",\"co...</td>\n",
       "      <td>0</td>\n",
       "    </tr>\n",
       "    <tr>\n",
       "      <th>2</th>\n",
       "      <td>3</td>\n",
       "      <td>dtic@mobiletic.com</td>\n",
       "      <td>session-37</td>\n",
       "      <td>678-politique-et-cadre-legal</td>\n",
       "      <td>lesson</td>\n",
       "      <td>1.0</td>\n",
       "      <td>71.0</td>\n",
       "      <td>31203.0</td>\n",
       "      <td>11</td>\n",
       "      <td>2016-08-25 17:27:58</td>\n",
       "      <td>2017-10-27 08:21:30</td>\n",
       "      <td>{\"learner_id\":\"\",\"progress_measure\":\"1.00\",\"co...</td>\n",
       "      <td>0</td>\n",
       "    </tr>\n",
       "    <tr>\n",
       "      <th>3</th>\n",
       "      <td>4</td>\n",
       "      <td>dtic@mobiletic.com</td>\n",
       "      <td>session-46</td>\n",
       "      <td>671-presentation</td>\n",
       "      <td>lesson</td>\n",
       "      <td>1.0</td>\n",
       "      <td>22.0</td>\n",
       "      <td>112788.0</td>\n",
       "      <td>7</td>\n",
       "      <td>2016-08-25 17:29:27</td>\n",
       "      <td>2017-11-30 16:53:58</td>\n",
       "      <td>{\"learner_id\":\"\",\"progress_measure\":\"1.00\",\"co...</td>\n",
       "      <td>1</td>\n",
       "    </tr>\n",
       "    <tr>\n",
       "      <th>4</th>\n",
       "      <td>5</td>\n",
       "      <td>dtic@mobiletic.com</td>\n",
       "      <td>session-52</td>\n",
       "      <td>684-informatique</td>\n",
       "      <td>lesson</td>\n",
       "      <td>1.0</td>\n",
       "      <td>0.0</td>\n",
       "      <td>841.0</td>\n",
       "      <td>4</td>\n",
       "      <td>2016-08-25 17:30:45</td>\n",
       "      <td>2017-11-02 15:56:02</td>\n",
       "      <td>{\"learner_id\":\"\",\"progress_measure\":\"1.00\",\"co...</td>\n",
       "      <td>0</td>\n",
       "    </tr>\n",
       "    <tr>\n",
       "      <th>...</th>\n",
       "      <td>...</td>\n",
       "      <td>...</td>\n",
       "      <td>...</td>\n",
       "      <td>...</td>\n",
       "      <td>...</td>\n",
       "      <td>...</td>\n",
       "      <td>...</td>\n",
       "      <td>...</td>\n",
       "      <td>...</td>\n",
       "      <td>...</td>\n",
       "      <td>...</td>\n",
       "      <td>...</td>\n",
       "      <td>...</td>\n",
       "    </tr>\n",
       "    <tr>\n",
       "      <th>27398</th>\n",
       "      <td>245637</td>\n",
       "      <td>dtic@mobiletic.com</td>\n",
       "      <td>dd0de81f-1cfd-4f02-9e99-1fc730e66ccb</td>\n",
       "      <td>691-reseau-developpement</td>\n",
       "      <td>lesson</td>\n",
       "      <td>1.0</td>\n",
       "      <td>0.0</td>\n",
       "      <td>48.0</td>\n",
       "      <td>17</td>\n",
       "      <td>2018-12-13 11:21:20</td>\n",
       "      <td>2018-12-13 11:22:08</td>\n",
       "      <td>{\"location\":\"home\",\"suspend_data\":\"viewed=cdg,...</td>\n",
       "      <td>1</td>\n",
       "    </tr>\n",
       "    <tr>\n",
       "      <th>27399</th>\n",
       "      <td>245650</td>\n",
       "      <td>dtic@mobiletic.com</td>\n",
       "      <td>4da3228a-9a0b-42ab-a6ce-d93b2ed99b91</td>\n",
       "      <td>691-reseau-developpement</td>\n",
       "      <td>lesson</td>\n",
       "      <td>1.0</td>\n",
       "      <td>0.0</td>\n",
       "      <td>5.0</td>\n",
       "      <td>17</td>\n",
       "      <td>2018-12-13 11:22:13</td>\n",
       "      <td>2018-12-13 11:22:19</td>\n",
       "      <td>{\"location\":\"home\",\"suspend_data\":\"viewed=cdg,...</td>\n",
       "      <td>1</td>\n",
       "    </tr>\n",
       "    <tr>\n",
       "      <th>27400</th>\n",
       "      <td>245654</td>\n",
       "      <td>dtic@mobiletic.com</td>\n",
       "      <td>fcd48e54-b0b9-4ea7-99f2-4189031199fa</td>\n",
       "      <td>724-but-du-module</td>\n",
       "      <td>lesson</td>\n",
       "      <td>1.0</td>\n",
       "      <td>0.0</td>\n",
       "      <td>18.0</td>\n",
       "      <td>1</td>\n",
       "      <td>2018-12-13 11:23:33</td>\n",
       "      <td>2018-12-13 11:23:51</td>\n",
       "      <td>{\"objectives\":[{\"id\":\"1_introduction\",\"progres...</td>\n",
       "      <td>1</td>\n",
       "    </tr>\n",
       "    <tr>\n",
       "      <th>27401</th>\n",
       "      <td>245656</td>\n",
       "      <td>dtic@mobiletic.com</td>\n",
       "      <td>a871e8c1-c928-4faf-8cfb-e06f0dbb99bc</td>\n",
       "      <td>724-but-du-module</td>\n",
       "      <td>lesson</td>\n",
       "      <td>1.0</td>\n",
       "      <td>0.0</td>\n",
       "      <td>3.0</td>\n",
       "      <td>1</td>\n",
       "      <td>2018-12-13 11:23:55</td>\n",
       "      <td>2018-12-13 11:23:59</td>\n",
       "      <td>{\"objectives\":[{\"id\":\"1_introduction\",\"progres...</td>\n",
       "      <td>1</td>\n",
       "    </tr>\n",
       "    <tr>\n",
       "      <th>27402</th>\n",
       "      <td>245659</td>\n",
       "      <td>dtic@mobiletic.com</td>\n",
       "      <td>12361fd6-7416-46d6-b8a8-f76bf7d902b8</td>\n",
       "      <td>725-conduite-du-collaborateur</td>\n",
       "      <td>lesson</td>\n",
       "      <td>1.0</td>\n",
       "      <td>0.0</td>\n",
       "      <td>2.0</td>\n",
       "      <td>5</td>\n",
       "      <td>2018-12-13 11:24:03</td>\n",
       "      <td>2018-12-13 11:24:05</td>\n",
       "      <td>{\"objectives\":[{\"id\":\"1_culture_de_lecrit\"},{\"...</td>\n",
       "      <td>1</td>\n",
       "    </tr>\n",
       "  </tbody>\n",
       "</table>\n",
       "<p>27403 rows × 13 columns</p>\n",
       "</div>"
      ],
      "text/plain": [
       "           id                    actor                          session_uuid  \\\n",
       "0           1  ga2018_umbe@yopmail.com                            session-20   \n",
       "1           2       dtic@mobiletic.com                            session-33   \n",
       "2           3       dtic@mobiletic.com                            session-37   \n",
       "3           4       dtic@mobiletic.com                            session-46   \n",
       "4           5       dtic@mobiletic.com                            session-52   \n",
       "...       ...                      ...                                   ...   \n",
       "27398  245637       dtic@mobiletic.com  dd0de81f-1cfd-4f02-9e99-1fc730e66ccb   \n",
       "27399  245650       dtic@mobiletic.com  4da3228a-9a0b-42ab-a6ce-d93b2ed99b91   \n",
       "27400  245654       dtic@mobiletic.com  fcd48e54-b0b9-4ea7-99f2-4189031199fa   \n",
       "27401  245656       dtic@mobiletic.com  a871e8c1-c928-4faf-8cfb-e06f0dbb99bc   \n",
       "27402  245659       dtic@mobiletic.com  12361fd6-7416-46d6-b8a8-f76bf7d902b8   \n",
       "\n",
       "                           object_id activity_type  progression  score  \\\n",
       "0                    694-vorstellung        lesson          1.0  100.0   \n",
       "1              683-programme-nescens        lesson          1.0    0.0   \n",
       "2       678-politique-et-cadre-legal        lesson          1.0   71.0   \n",
       "3                   671-presentation        lesson          1.0   22.0   \n",
       "4                   684-informatique        lesson          1.0    0.0   \n",
       "...                              ...           ...          ...    ...   \n",
       "27398       691-reseau-developpement        lesson          1.0    0.0   \n",
       "27399       691-reseau-developpement        lesson          1.0    0.0   \n",
       "27400              724-but-du-module        lesson          1.0    0.0   \n",
       "27401              724-but-du-module        lesson          1.0    0.0   \n",
       "27402  725-conduite-du-collaborateur        lesson          1.0    0.0   \n",
       "\n",
       "          temps  total_ecrans              created             modified  \\\n",
       "0         589.0             8  2016-08-25 17:22:56  2016-08-25 17:32:58   \n",
       "1        6194.0             2  2016-08-25 17:27:34  2017-11-02 15:40:38   \n",
       "2       31203.0            11  2016-08-25 17:27:58  2017-10-27 08:21:30   \n",
       "3      112788.0             7  2016-08-25 17:29:27  2017-11-30 16:53:58   \n",
       "4         841.0             4  2016-08-25 17:30:45  2017-11-02 15:56:02   \n",
       "...         ...           ...                  ...                  ...   \n",
       "27398      48.0            17  2018-12-13 11:21:20  2018-12-13 11:22:08   \n",
       "27399       5.0            17  2018-12-13 11:22:13  2018-12-13 11:22:19   \n",
       "27400      18.0             1  2018-12-13 11:23:33  2018-12-13 11:23:51   \n",
       "27401       3.0             1  2018-12-13 11:23:55  2018-12-13 11:23:59   \n",
       "27402       2.0             5  2018-12-13 11:24:03  2018-12-13 11:24:05   \n",
       "\n",
       "                                         learning_object  processed  \n",
       "0      {\"learner_id\":\"\",\"progress_measure\":\"1.00\",\"co...          0  \n",
       "1      {\"learner_id\":\"\",\"progress_measure\":\"1.00\",\"co...          0  \n",
       "2      {\"learner_id\":\"\",\"progress_measure\":\"1.00\",\"co...          0  \n",
       "3      {\"learner_id\":\"\",\"progress_measure\":\"1.00\",\"co...          1  \n",
       "4      {\"learner_id\":\"\",\"progress_measure\":\"1.00\",\"co...          0  \n",
       "...                                                  ...        ...  \n",
       "27398  {\"location\":\"home\",\"suspend_data\":\"viewed=cdg,...          1  \n",
       "27399  {\"location\":\"home\",\"suspend_data\":\"viewed=cdg,...          1  \n",
       "27400  {\"objectives\":[{\"id\":\"1_introduction\",\"progres...          1  \n",
       "27401  {\"objectives\":[{\"id\":\"1_introduction\",\"progres...          1  \n",
       "27402  {\"objectives\":[{\"id\":\"1_culture_de_lecrit\"},{\"...          1  \n",
       "\n",
       "[27403 rows x 13 columns]"
      ]
     },
     "execution_count": 43,
     "metadata": {},
     "output_type": "execute_result"
    }
   ],
   "source": [
    "import pandas as pd\n",
    "import numpy as np\n",
    "import matplotlib as mpl\n",
    "import matplotlib.pyplot as plt\n",
    "DATA_INIT=pd.read_csv(\"scorm_tracking_copy.csv\", delimiter=\";\")\n",
    "DATA_INIT"
   ]
  },
  {
   "cell_type": "markdown",
   "id": "d55092f9",
   "metadata": {},
   "source": [
    "# A partir du jeu de données original, créer:\n",
    "\n",
    "## un Dataframe comportant tous les modules en précisant l’effectif des apprenants, le nombre total de sessions, le score maximal, le score minimal, le taux de réussite (pour les apprenants des scores > 50)\n",
    "\n",
    "## un tableau 2D Numpy avec les données des 10 tops modules selon les taux de réussites (Chaque ligne représente un module)\n"
   ]
  },
  {
   "cell_type": "code",
   "execution_count": 65,
   "id": "8c2105ae",
   "metadata": {},
   "outputs": [
    {
     "data": {
      "text/html": [
       "<div>\n",
       "<style scoped>\n",
       "    .dataframe tbody tr th:only-of-type {\n",
       "        vertical-align: middle;\n",
       "    }\n",
       "\n",
       "    .dataframe tbody tr th {\n",
       "        vertical-align: top;\n",
       "    }\n",
       "\n",
       "    .dataframe thead th {\n",
       "        text-align: right;\n",
       "    }\n",
       "</style>\n",
       "<table border=\"1\" class=\"dataframe\">\n",
       "  <thead>\n",
       "    <tr style=\"text-align: right;\">\n",
       "      <th></th>\n",
       "      <th>id</th>\n",
       "      <th>actor</th>\n",
       "      <th>session_uuid</th>\n",
       "      <th>object_id</th>\n",
       "      <th>activity_type</th>\n",
       "      <th>progression</th>\n",
       "      <th>score</th>\n",
       "      <th>temps</th>\n",
       "      <th>total_ecrans</th>\n",
       "      <th>created</th>\n",
       "      <th>modified</th>\n",
       "      <th>learning_object</th>\n",
       "      <th>processed</th>\n",
       "      <th>ranger</th>\n",
       "    </tr>\n",
       "  </thead>\n",
       "  <tbody>\n",
       "    <tr>\n",
       "      <th>0</th>\n",
       "      <td>1</td>\n",
       "      <td>ga2018_umbe@yopmail.com</td>\n",
       "      <td>session-20</td>\n",
       "      <td>694-vorstellung</td>\n",
       "      <td>lesson</td>\n",
       "      <td>1.0</td>\n",
       "      <td>100.0</td>\n",
       "      <td>9.816667</td>\n",
       "      <td>8</td>\n",
       "      <td>2016-08-25 17:22:56</td>\n",
       "      <td>2016-08-25 17:32:58</td>\n",
       "      <td>{\"learner_id\":\"\",\"progress_measure\":\"1.00\",\"co...</td>\n",
       "      <td>0</td>\n",
       "      <td>1</td>\n",
       "    </tr>\n",
       "    <tr>\n",
       "      <th>1</th>\n",
       "      <td>2</td>\n",
       "      <td>dtic@mobiletic.com</td>\n",
       "      <td>session-33</td>\n",
       "      <td>683-programme-nescens</td>\n",
       "      <td>lesson</td>\n",
       "      <td>1.0</td>\n",
       "      <td>0.0</td>\n",
       "      <td>103.233333</td>\n",
       "      <td>2</td>\n",
       "      <td>2016-08-25 17:27:34</td>\n",
       "      <td>2017-11-02 15:40:38</td>\n",
       "      <td>{\"learner_id\":\"\",\"progress_measure\":\"1.00\",\"co...</td>\n",
       "      <td>0</td>\n",
       "      <td>2</td>\n",
       "    </tr>\n",
       "    <tr>\n",
       "      <th>2</th>\n",
       "      <td>3</td>\n",
       "      <td>dtic@mobiletic.com</td>\n",
       "      <td>session-37</td>\n",
       "      <td>678-politique-et-cadre-legal</td>\n",
       "      <td>lesson</td>\n",
       "      <td>1.0</td>\n",
       "      <td>71.0</td>\n",
       "      <td>520.050000</td>\n",
       "      <td>11</td>\n",
       "      <td>2016-08-25 17:27:58</td>\n",
       "      <td>2017-10-27 08:21:30</td>\n",
       "      <td>{\"learner_id\":\"\",\"progress_measure\":\"1.00\",\"co...</td>\n",
       "      <td>0</td>\n",
       "      <td>3</td>\n",
       "    </tr>\n",
       "    <tr>\n",
       "      <th>3</th>\n",
       "      <td>4</td>\n",
       "      <td>dtic@mobiletic.com</td>\n",
       "      <td>session-46</td>\n",
       "      <td>671-presentation</td>\n",
       "      <td>lesson</td>\n",
       "      <td>1.0</td>\n",
       "      <td>22.0</td>\n",
       "      <td>1879.800000</td>\n",
       "      <td>7</td>\n",
       "      <td>2016-08-25 17:29:27</td>\n",
       "      <td>2017-11-30 16:53:58</td>\n",
       "      <td>{\"learner_id\":\"\",\"progress_measure\":\"1.00\",\"co...</td>\n",
       "      <td>1</td>\n",
       "      <td>4</td>\n",
       "    </tr>\n",
       "    <tr>\n",
       "      <th>4</th>\n",
       "      <td>5</td>\n",
       "      <td>dtic@mobiletic.com</td>\n",
       "      <td>session-52</td>\n",
       "      <td>684-informatique</td>\n",
       "      <td>lesson</td>\n",
       "      <td>1.0</td>\n",
       "      <td>0.0</td>\n",
       "      <td>14.016667</td>\n",
       "      <td>4</td>\n",
       "      <td>2016-08-25 17:30:45</td>\n",
       "      <td>2017-11-02 15:56:02</td>\n",
       "      <td>{\"learner_id\":\"\",\"progress_measure\":\"1.00\",\"co...</td>\n",
       "      <td>0</td>\n",
       "      <td>5</td>\n",
       "    </tr>\n",
       "    <tr>\n",
       "      <th>...</th>\n",
       "      <td>...</td>\n",
       "      <td>...</td>\n",
       "      <td>...</td>\n",
       "      <td>...</td>\n",
       "      <td>...</td>\n",
       "      <td>...</td>\n",
       "      <td>...</td>\n",
       "      <td>...</td>\n",
       "      <td>...</td>\n",
       "      <td>...</td>\n",
       "      <td>...</td>\n",
       "      <td>...</td>\n",
       "      <td>...</td>\n",
       "      <td>...</td>\n",
       "    </tr>\n",
       "    <tr>\n",
       "      <th>27398</th>\n",
       "      <td>245637</td>\n",
       "      <td>dtic@mobiletic.com</td>\n",
       "      <td>dd0de81f-1cfd-4f02-9e99-1fc730e66ccb</td>\n",
       "      <td>691-reseau-developpement</td>\n",
       "      <td>lesson</td>\n",
       "      <td>1.0</td>\n",
       "      <td>0.0</td>\n",
       "      <td>0.800000</td>\n",
       "      <td>17</td>\n",
       "      <td>2018-12-13 11:21:20</td>\n",
       "      <td>2018-12-13 11:22:08</td>\n",
       "      <td>{\"location\":\"home\",\"suspend_data\":\"viewed=cdg,...</td>\n",
       "      <td>1</td>\n",
       "      <td>27399</td>\n",
       "    </tr>\n",
       "    <tr>\n",
       "      <th>27399</th>\n",
       "      <td>245650</td>\n",
       "      <td>dtic@mobiletic.com</td>\n",
       "      <td>4da3228a-9a0b-42ab-a6ce-d93b2ed99b91</td>\n",
       "      <td>691-reseau-developpement</td>\n",
       "      <td>lesson</td>\n",
       "      <td>1.0</td>\n",
       "      <td>0.0</td>\n",
       "      <td>0.083333</td>\n",
       "      <td>17</td>\n",
       "      <td>2018-12-13 11:22:13</td>\n",
       "      <td>2018-12-13 11:22:19</td>\n",
       "      <td>{\"location\":\"home\",\"suspend_data\":\"viewed=cdg,...</td>\n",
       "      <td>1</td>\n",
       "      <td>27400</td>\n",
       "    </tr>\n",
       "    <tr>\n",
       "      <th>27400</th>\n",
       "      <td>245654</td>\n",
       "      <td>dtic@mobiletic.com</td>\n",
       "      <td>fcd48e54-b0b9-4ea7-99f2-4189031199fa</td>\n",
       "      <td>724-but-du-module</td>\n",
       "      <td>lesson</td>\n",
       "      <td>1.0</td>\n",
       "      <td>0.0</td>\n",
       "      <td>0.300000</td>\n",
       "      <td>1</td>\n",
       "      <td>2018-12-13 11:23:33</td>\n",
       "      <td>2018-12-13 11:23:51</td>\n",
       "      <td>{\"objectives\":[{\"id\":\"1_introduction\",\"progres...</td>\n",
       "      <td>1</td>\n",
       "      <td>27401</td>\n",
       "    </tr>\n",
       "    <tr>\n",
       "      <th>27401</th>\n",
       "      <td>245656</td>\n",
       "      <td>dtic@mobiletic.com</td>\n",
       "      <td>a871e8c1-c928-4faf-8cfb-e06f0dbb99bc</td>\n",
       "      <td>724-but-du-module</td>\n",
       "      <td>lesson</td>\n",
       "      <td>1.0</td>\n",
       "      <td>0.0</td>\n",
       "      <td>0.050000</td>\n",
       "      <td>1</td>\n",
       "      <td>2018-12-13 11:23:55</td>\n",
       "      <td>2018-12-13 11:23:59</td>\n",
       "      <td>{\"objectives\":[{\"id\":\"1_introduction\",\"progres...</td>\n",
       "      <td>1</td>\n",
       "      <td>27402</td>\n",
       "    </tr>\n",
       "    <tr>\n",
       "      <th>27402</th>\n",
       "      <td>245659</td>\n",
       "      <td>dtic@mobiletic.com</td>\n",
       "      <td>12361fd6-7416-46d6-b8a8-f76bf7d902b8</td>\n",
       "      <td>725-conduite-du-collaborateur</td>\n",
       "      <td>lesson</td>\n",
       "      <td>1.0</td>\n",
       "      <td>0.0</td>\n",
       "      <td>0.033333</td>\n",
       "      <td>5</td>\n",
       "      <td>2018-12-13 11:24:03</td>\n",
       "      <td>2018-12-13 11:24:05</td>\n",
       "      <td>{\"objectives\":[{\"id\":\"1_culture_de_lecrit\"},{\"...</td>\n",
       "      <td>1</td>\n",
       "      <td>27403</td>\n",
       "    </tr>\n",
       "  </tbody>\n",
       "</table>\n",
       "<p>27403 rows × 14 columns</p>\n",
       "</div>"
      ],
      "text/plain": [
       "           id                    actor                          session_uuid  \\\n",
       "0           1  ga2018_umbe@yopmail.com                            session-20   \n",
       "1           2       dtic@mobiletic.com                            session-33   \n",
       "2           3       dtic@mobiletic.com                            session-37   \n",
       "3           4       dtic@mobiletic.com                            session-46   \n",
       "4           5       dtic@mobiletic.com                            session-52   \n",
       "...       ...                      ...                                   ...   \n",
       "27398  245637       dtic@mobiletic.com  dd0de81f-1cfd-4f02-9e99-1fc730e66ccb   \n",
       "27399  245650       dtic@mobiletic.com  4da3228a-9a0b-42ab-a6ce-d93b2ed99b91   \n",
       "27400  245654       dtic@mobiletic.com  fcd48e54-b0b9-4ea7-99f2-4189031199fa   \n",
       "27401  245656       dtic@mobiletic.com  a871e8c1-c928-4faf-8cfb-e06f0dbb99bc   \n",
       "27402  245659       dtic@mobiletic.com  12361fd6-7416-46d6-b8a8-f76bf7d902b8   \n",
       "\n",
       "                           object_id activity_type  progression  score  \\\n",
       "0                    694-vorstellung        lesson          1.0  100.0   \n",
       "1              683-programme-nescens        lesson          1.0    0.0   \n",
       "2       678-politique-et-cadre-legal        lesson          1.0   71.0   \n",
       "3                   671-presentation        lesson          1.0   22.0   \n",
       "4                   684-informatique        lesson          1.0    0.0   \n",
       "...                              ...           ...          ...    ...   \n",
       "27398       691-reseau-developpement        lesson          1.0    0.0   \n",
       "27399       691-reseau-developpement        lesson          1.0    0.0   \n",
       "27400              724-but-du-module        lesson          1.0    0.0   \n",
       "27401              724-but-du-module        lesson          1.0    0.0   \n",
       "27402  725-conduite-du-collaborateur        lesson          1.0    0.0   \n",
       "\n",
       "             temps  total_ecrans              created             modified  \\\n",
       "0         9.816667             8  2016-08-25 17:22:56  2016-08-25 17:32:58   \n",
       "1       103.233333             2  2016-08-25 17:27:34  2017-11-02 15:40:38   \n",
       "2       520.050000            11  2016-08-25 17:27:58  2017-10-27 08:21:30   \n",
       "3      1879.800000             7  2016-08-25 17:29:27  2017-11-30 16:53:58   \n",
       "4        14.016667             4  2016-08-25 17:30:45  2017-11-02 15:56:02   \n",
       "...            ...           ...                  ...                  ...   \n",
       "27398     0.800000            17  2018-12-13 11:21:20  2018-12-13 11:22:08   \n",
       "27399     0.083333            17  2018-12-13 11:22:13  2018-12-13 11:22:19   \n",
       "27400     0.300000             1  2018-12-13 11:23:33  2018-12-13 11:23:51   \n",
       "27401     0.050000             1  2018-12-13 11:23:55  2018-12-13 11:23:59   \n",
       "27402     0.033333             5  2018-12-13 11:24:03  2018-12-13 11:24:05   \n",
       "\n",
       "                                         learning_object  processed  ranger  \n",
       "0      {\"learner_id\":\"\",\"progress_measure\":\"1.00\",\"co...          0       1  \n",
       "1      {\"learner_id\":\"\",\"progress_measure\":\"1.00\",\"co...          0       2  \n",
       "2      {\"learner_id\":\"\",\"progress_measure\":\"1.00\",\"co...          0       3  \n",
       "3      {\"learner_id\":\"\",\"progress_measure\":\"1.00\",\"co...          1       4  \n",
       "4      {\"learner_id\":\"\",\"progress_measure\":\"1.00\",\"co...          0       5  \n",
       "...                                                  ...        ...     ...  \n",
       "27398  {\"location\":\"home\",\"suspend_data\":\"viewed=cdg,...          1   27399  \n",
       "27399  {\"location\":\"home\",\"suspend_data\":\"viewed=cdg,...          1   27400  \n",
       "27400  {\"objectives\":[{\"id\":\"1_introduction\",\"progres...          1   27401  \n",
       "27401  {\"objectives\":[{\"id\":\"1_introduction\",\"progres...          1   27402  \n",
       "27402  {\"objectives\":[{\"id\":\"1_culture_de_lecrit\"},{\"...          1   27403  \n",
       "\n",
       "[27403 rows x 14 columns]"
      ]
     },
     "execution_count": 65,
     "metadata": {},
     "output_type": "execute_result"
    }
   ],
   "source": [
    "DATA_INIT['ranger']=prem(DATA_INIT['score'])\n",
    "DATA_INIT['temps']=DATA_INIT['temps']/60\n",
    "DATA_INIT"
   ]
  },
  {
   "cell_type": "code",
   "execution_count": 44,
   "id": "b0ffc3d7",
   "metadata": {},
   "outputs": [],
   "source": [
    "actor=DATA_INIT.groupby('object_id').actor.nunique()\n",
    "# actor"
   ]
  },
  {
   "cell_type": "code",
   "execution_count": 45,
   "id": "12d9213c",
   "metadata": {},
   "outputs": [],
   "source": [
    "session_id=DATA_INIT.groupby('object_id').session_uuid.count()\n",
    "# session_id"
   ]
  },
  {
   "cell_type": "code",
   "execution_count": 50,
   "id": "0071fa24",
   "metadata": {},
   "outputs": [],
   "source": [
    "score_min=DATA_INIT.groupby('object_id').score.min()\n",
    "# score_min"
   ]
  },
  {
   "cell_type": "code",
   "execution_count": 51,
   "id": "77008447",
   "metadata": {},
   "outputs": [],
   "source": [
    "score_max=DATA_INIT.groupby('object_id').score.max()\n",
    "# score_max"
   ]
  },
  {
   "cell_type": "code",
   "execution_count": 52,
   "id": "88b52ac9",
   "metadata": {
    "scrolled": true
   },
   "outputs": [],
   "source": [
    "DATAFRAME_MODULE=pd.DataFrame({'actor':actor,'session_uuid':session_id,'score_min':score_min,'score_max':score_max})\n",
    "#DATAFRAME_MODULE"
   ]
  },
  {
   "cell_type": "code",
   "execution_count": 53,
   "id": "b256616e",
   "metadata": {},
   "outputs": [],
   "source": [
    "SCORE_SUP=DATA_INIT[DATA_INIT['score' ] >=50]\n",
    "#SCORE_SUP"
   ]
  },
  {
   "cell_type": "code",
   "execution_count": 54,
   "id": "67d2506e",
   "metadata": {},
   "outputs": [],
   "source": [
    "nbre_reussite=SCORE_SUP.groupby(['object_id','actor']).score.max()\n",
    "nbre_reussite=nbre_reussite.reset_index()"
   ]
  },
  {
   "cell_type": "code",
   "execution_count": 55,
   "id": "f15b8381",
   "metadata": {},
   "outputs": [
    {
     "data": {
      "text/plain": [
       "object_id\n",
       "752-etudes-de-cas-et-questions                   99.186992\n",
       "734-risques-psychosociaux                        98.387097\n",
       "819-informatique                                 98.305085\n",
       "755-verhalten-des-mitarbeitenden                 97.872340\n",
       "761-fallstudien-und-fragen                       97.752809\n",
       "                                                   ...    \n",
       "816-krankheits-und-unfallbedingte-abwesenheit          NaN\n",
       "818-nescens                                            NaN\n",
       "820-formation                                          NaN\n",
       "823-nescens                                            NaN\n",
       "824-nescens                                            NaN\n",
       "Length: 152, dtype: float64"
      ]
     },
     "execution_count": 55,
     "metadata": {},
     "output_type": "execute_result"
    }
   ],
   "source": [
    "nbre_r=nbre_reussite.groupby('object_id').score.count()\n",
    "taux_reussite=(nbre_r/actor)*100\n",
    "taux_reussite.sort_values(ascending = False)"
   ]
  },
  {
   "cell_type": "code",
   "execution_count": 56,
   "id": "dc0331a8",
   "metadata": {},
   "outputs": [],
   "source": [
    "DATAFRAME_MODULE['taux_reussite']=taux_reussite\n",
    "#DATAFRAME_MODULE"
   ]
  },
  {
   "cell_type": "code",
   "execution_count": 57,
   "id": "84000d39",
   "metadata": {},
   "outputs": [],
   "source": [
    "DATAFRAME_MODULE['taux_reussite']=DATAFRAME_MODULE['taux_reussite'].fillna(0)\n",
    "#DATAFRAME_MODULE"
   ]
  },
  {
   "cell_type": "code",
   "execution_count": 63,
   "id": "9cc9393b",
   "metadata": {
    "scrolled": true
   },
   "outputs": [],
   "source": [
    "TRI_MODULE=DATAFRAME_MODULE.sort_values(by='taux_reussite', ascending=False)\n",
    "#TRI_MODULE"
   ]
  },
  {
   "cell_type": "code",
   "execution_count": 64,
   "id": "51c73ae7",
   "metadata": {},
   "outputs": [],
   "source": [
    "TOP10_MODULE=TRI_MODULE.head(10)\n",
    "#TOP10_MODULE"
   ]
  },
  {
   "cell_type": "code",
   "execution_count": 103,
   "id": "330dba57",
   "metadata": {},
   "outputs": [],
   "source": [
    "numpy2D=np.array([TOP10_MODULE])\n",
    "#numpy2D"
   ]
  },
  {
   "cell_type": "markdown",
   "id": "95c9eff0",
   "metadata": {},
   "source": [
    "# Pour le top module et le dernier:\n",
    "\n",
    "## créer un Dataframe avec les données résumées de chaque apprenants: nombre total de sessions, nombre total de temps, score, resultat final (de valeur 0 si score < 50 et 1 sinon)\n"
   ]
  },
  {
   "cell_type": "code",
   "execution_count": 104,
   "id": "ba3e2213",
   "metadata": {},
   "outputs": [],
   "source": [
    "CAL=TOP10_MODULE.iloc[0,:]\n",
    "#CAL"
   ]
  },
  {
   "cell_type": "code",
   "execution_count": 105,
   "id": "21d84b7f",
   "metadata": {},
   "outputs": [],
   "source": [
    "CALL=TOP10_MODULE.iloc[-1,:]\n",
    "#CALL"
   ]
  },
  {
   "cell_type": "code",
   "execution_count": 106,
   "id": "2e4b5926",
   "metadata": {},
   "outputs": [],
   "source": [
    "PRIN_TOP=DATA_INIT[['object_id','actor','session_uuid','score','temps']]\n",
    "#PRIN_TOP"
   ]
  },
  {
   "cell_type": "code",
   "execution_count": 107,
   "id": "ed888d9e",
   "metadata": {
    "scrolled": true
   },
   "outputs": [],
   "source": [
    "premier=PRIN_TOP.loc[(PRIN_TOP['object_id']=='752-etudes-de-cas-et-questions'),:]\n",
    "# premier"
   ]
  },
  {
   "cell_type": "code",
   "execution_count": 108,
   "id": "ce836e13",
   "metadata": {},
   "outputs": [],
   "source": [
    "premier_score=premier.groupby(['actor']).score.max()\n",
    "premier_temps=premier.groupby(['actor']).temps.sum()\n",
    "premier_session=premier.groupby(['actor']).session_uuid.count()"
   ]
  },
  {
   "cell_type": "code",
   "execution_count": 186,
   "id": "e85ec208",
   "metadata": {},
   "outputs": [],
   "source": [
    " premier_top=pd.DataFrame({'session':premier_session,'score':premier_score,'temps':premier_temps})\n",
    "# premier_top"
   ]
  },
  {
   "cell_type": "code",
   "execution_count": 28,
   "id": "8be08fee",
   "metadata": {},
   "outputs": [],
   "source": [
    "def prem(l):\n",
    "    i=1\n",
    "    liste=[]\n",
    "    for e in l:\n",
    "        liste.append(i)\n",
    "        i=i+1\n",
    "        \n",
    "    return liste\n",
    "        "
   ]
  },
  {
   "cell_type": "code",
   "execution_count": 111,
   "id": "fcb99f6a",
   "metadata": {},
   "outputs": [],
   "source": [
    "# premiertop_tri=premier_top.sort_values(by='score',ascending=False)\n",
    "# premiertop_tri \n",
    "# premiertop_tri=premier_top"
   ]
  },
  {
   "cell_type": "code",
   "execution_count": 187,
   "id": "bc9f4f2e",
   "metadata": {
    "scrolled": true
   },
   "outputs": [],
   "source": [
    " premiertop_tri['ranger']=prem(premiertop_tri['score'])\n",
    "# premiertop_tri"
   ]
  },
  {
   "cell_type": "code",
   "execution_count": 188,
   "id": "3be3c924",
   "metadata": {},
   "outputs": [],
   "source": [
    "premiertop_tri['resultat'] =0\n",
    "premiertop_tri.loc[premiertop_tri['score']>=50,'resultat']=1\n",
    "#premiertop_tri"
   ]
  },
  {
   "cell_type": "code",
   "execution_count": 189,
   "id": "bbafc3ec",
   "metadata": {},
   "outputs": [],
   "source": [
    " premiertop_tri['temps']=premiertop_tri['temps']/60\n",
    "# premiertop_tri"
   ]
  },
  {
   "cell_type": "code",
   "execution_count": 115,
   "id": "59ca517c",
   "metadata": {},
   "outputs": [],
   "source": [
    "# DF=premiertop_tri.sort_values(['temps'])\n",
    "\n",
    "# x=DF['temps']\n",
    "# y=DF['score']"
   ]
  },
  {
   "cell_type": "code",
   "execution_count": 116,
   "id": "c3c7d6d9",
   "metadata": {},
   "outputs": [],
   "source": [
    "# plt.plot(DF['temps'].to_numpy(), DF['score'].to_numpy())"
   ]
  },
  {
   "cell_type": "code",
   "execution_count": 117,
   "id": "15b23888",
   "metadata": {},
   "outputs": [],
   "source": [
    "# plt.plot(premiertop_tri['ranger'])"
   ]
  },
  {
   "cell_type": "code",
   "execution_count": 118,
   "id": "d781bfc1",
   "metadata": {},
   "outputs": [],
   "source": [
    "dernier=PRIN_TOP.loc[(PRIN_TOP['object_id']=='736-conge-non-paye'),:]     \n",
    "#dernier"
   ]
  },
  {
   "cell_type": "code",
   "execution_count": 119,
   "id": "76a5d713",
   "metadata": {},
   "outputs": [],
   "source": [
    "dernier_score=dernier.groupby(['actor']).score.max()\n",
    "dernier_temps=dernier.groupby(['actor']).temps.sum()\n",
    "dernier_session=dernier.groupby(['actor']).session_uuid.count()"
   ]
  },
  {
   "cell_type": "code",
   "execution_count": 120,
   "id": "aa9ad690",
   "metadata": {},
   "outputs": [],
   "source": [
    "dernier_top=pd.DataFrame({'session':dernier_session,'score':dernier_score,'temps':dernier_temps})\n",
    "#dernier_top"
   ]
  },
  {
   "cell_type": "code",
   "execution_count": 121,
   "id": "0e74c23d",
   "metadata": {},
   "outputs": [],
   "source": [
    "dernier_top['resultat'] =0 \n",
    "dernier_top.loc[dernier_top['score']>=50,'resultat']=1\n",
    "# dernier_top"
   ]
  },
  {
   "cell_type": "code",
   "execution_count": 122,
   "id": "69e4c7a8",
   "metadata": {},
   "outputs": [],
   "source": [
    " dernier_top['temps']=dernier_top['temps']/60\n",
    "# dernier_top.sort_values(by='temps',ascending=True)"
   ]
  },
  {
   "cell_type": "code",
   "execution_count": 123,
   "id": "33ef21fb",
   "metadata": {},
   "outputs": [],
   "source": [
    "deux2=TOP10_MODULE.iloc[1,:]\n",
    "#deux2"
   ]
  },
  {
   "cell_type": "code",
   "execution_count": 124,
   "id": "7934f6f1",
   "metadata": {},
   "outputs": [],
   "source": [
    "deuxième=PRIN_TOP.loc[(PRIN_TOP['object_id']=='734-risques-psychosociaux'),:]\n",
    "#deuxième"
   ]
  },
  {
   "cell_type": "code",
   "execution_count": 125,
   "id": "5484ee00",
   "metadata": {},
   "outputs": [],
   "source": [
    "deuxième_score=deuxième.groupby(['actor']).score.max()\n",
    "deuxième_temps=deuxième.groupby(['actor']).temps.sum()\n",
    "deuxième_session=deuxième.groupby(['actor']).session_uuid.count()"
   ]
  },
  {
   "cell_type": "code",
   "execution_count": 126,
   "id": "3612bfef",
   "metadata": {},
   "outputs": [],
   "source": [
    "deuxième_top=pd.DataFrame({'session':deuxième_session,'score':deuxième_score,'temps':deuxième_temps})\n",
    "#deuxième_top"
   ]
  },
  {
   "cell_type": "code",
   "execution_count": 127,
   "id": "08f1dcae",
   "metadata": {},
   "outputs": [],
   "source": [
    "deuxièmetop_tri=deuxième_top.sort_values(by='score',ascending=False)\n",
    "#deuxièmetop_tri"
   ]
  },
  {
   "cell_type": "code",
   "execution_count": 128,
   "id": "27ad2ad9",
   "metadata": {},
   "outputs": [],
   "source": [
    "deuxièmetop_tri['ranger']=prem(deuxièmetop_tri['score'])\n",
    "#deuxièmetop_tri"
   ]
  },
  {
   "cell_type": "code",
   "execution_count": 129,
   "id": "068ee5fe",
   "metadata": {},
   "outputs": [],
   "source": [
    "deuxièmetop_tri['resultat'] =0 \n",
    "deuxièmetop_tri.loc[deuxièmetop_tri['score']>=50,'resultat']=1\n",
    "#deuxièmetop_tri"
   ]
  },
  {
   "cell_type": "code",
   "execution_count": 130,
   "id": "5cb705c2",
   "metadata": {},
   "outputs": [],
   "source": [
    "# deuxièmetop_tri['temps']=deuxièmetop_tri['temps']/60\n",
    "# deuxièmetop_tri.sort_values(by='temps',ascending=True)"
   ]
  },
  {
   "cell_type": "code",
   "execution_count": 131,
   "id": "c74b9a8e",
   "metadata": {},
   "outputs": [],
   "source": [
    "trois2=TOP10_MODULE.iloc[2,:]\n",
    "#trois2"
   ]
  },
  {
   "cell_type": "code",
   "execution_count": 132,
   "id": "2d427d4a",
   "metadata": {},
   "outputs": [],
   "source": [
    "trois=PRIN_TOP.loc[(PRIN_TOP['object_id']=='819-informatique'),:]\n",
    "#trois"
   ]
  },
  {
   "cell_type": "code",
   "execution_count": 133,
   "id": "b1d390e0",
   "metadata": {},
   "outputs": [],
   "source": [
    "trois_score=trois.groupby(['actor']).score.max()\n",
    "trois_temps=trois.groupby(['actor']).temps.sum()\n",
    "trois_session=trois.groupby(['actor']).session_uuid.count()"
   ]
  },
  {
   "cell_type": "code",
   "execution_count": 134,
   "id": "efa868c6",
   "metadata": {
    "scrolled": true
   },
   "outputs": [],
   "source": [
    "trois_top=pd.DataFrame({'session':trois_session,'score':trois_score,'temps':trois_temps})\n",
    "#trois_top"
   ]
  },
  {
   "cell_type": "code",
   "execution_count": 135,
   "id": "a0a71390",
   "metadata": {},
   "outputs": [],
   "source": [
    "troistop_tri=trois_top.sort_values(by='score',ascending=False)\n",
    "#troistop_tri"
   ]
  },
  {
   "cell_type": "code",
   "execution_count": 136,
   "id": "3b341b0d",
   "metadata": {},
   "outputs": [],
   "source": [
    "troistop_tri['ranger']=prem(troistop_tri['score'])\n",
    "#troistop_tri"
   ]
  },
  {
   "cell_type": "code",
   "execution_count": 137,
   "id": "aff39ab6",
   "metadata": {},
   "outputs": [],
   "source": [
    "troistop_tri['resultat'] =0 \n",
    "troistop_tri.loc[troistop_tri['score']>=50,'resultat']=1\n",
    "#troistop_tri"
   ]
  },
  {
   "cell_type": "code",
   "execution_count": 138,
   "id": "158b14d2",
   "metadata": {},
   "outputs": [],
   "source": [
    "trois_top['temps']=trois_top['temps']/60\n",
    "#trois_top.sort_values(by='temps',ascending=True)"
   ]
  },
  {
   "cell_type": "code",
   "execution_count": 139,
   "id": "142131ae",
   "metadata": {},
   "outputs": [],
   "source": [
    "quatre3=TOP10_MODULE.iloc[3,:]\n",
    "#quatre3"
   ]
  },
  {
   "cell_type": "code",
   "execution_count": 140,
   "id": "b2841def",
   "metadata": {},
   "outputs": [],
   "source": [
    "quatre=PRIN_TOP.loc[(PRIN_TOP['object_id']=='755-verhalten-des-mitarbeitenden'),:]\n",
    "#quatre"
   ]
  },
  {
   "cell_type": "code",
   "execution_count": 141,
   "id": "6dd81fbd",
   "metadata": {},
   "outputs": [],
   "source": [
    "quatre_score=quatre.groupby(['actor']).score.max()\n",
    "quatre_temps=quatre.groupby(['actor']).temps.sum()\n",
    "quatre_session=quatre.groupby(['actor']).session_uuid.count()"
   ]
  },
  {
   "cell_type": "code",
   "execution_count": 142,
   "id": "47dd5f06",
   "metadata": {},
   "outputs": [],
   "source": [
    "quatre_top=pd.DataFrame({'session':quatre_session,'score':quatre_score,'temps':quatre_temps})\n",
    "#quatre_top"
   ]
  },
  {
   "cell_type": "code",
   "execution_count": 143,
   "id": "25f7d380",
   "metadata": {},
   "outputs": [],
   "source": [
    "quatre_top['resultat'] =0 \n",
    "quatre_top.loc[quatre_top['score']>=50,'resultat']=1\n",
    "#quatre_top"
   ]
  },
  {
   "cell_type": "code",
   "execution_count": 144,
   "id": "1fb6e826",
   "metadata": {},
   "outputs": [],
   "source": [
    "quatre_top['temps']=quatre_top['temps']/60\n",
    "#quatre_top.sort_values(by='temps',ascending=True)"
   ]
  },
  {
   "cell_type": "code",
   "execution_count": 145,
   "id": "9fe7c6a8",
   "metadata": {},
   "outputs": [],
   "source": [
    "cinq4=TOP10_MODULE.iloc[4,:]\n",
    "#cinq4"
   ]
  },
  {
   "cell_type": "code",
   "execution_count": 146,
   "id": "f014d3af",
   "metadata": {},
   "outputs": [],
   "source": [
    "cinq=PRIN_TOP.loc[(PRIN_TOP['object_id']=='761-fallstudien-und-fragen'),:]\n",
    "#cinq"
   ]
  },
  {
   "cell_type": "code",
   "execution_count": 147,
   "id": "773bb042",
   "metadata": {},
   "outputs": [],
   "source": [
    "cinq_score=cinq.groupby(['actor']).score.max()\n",
    "cinq_temps=cinq.groupby(['actor']).temps.sum()\n",
    "cinq_session=cinq.groupby(['actor']).session_uuid.count()"
   ]
  },
  {
   "cell_type": "code",
   "execution_count": 148,
   "id": "a258e9fc",
   "metadata": {},
   "outputs": [],
   "source": [
    "cinq_top=pd.DataFrame({'session':cinq_session,'score':cinq_score,'temps':cinq_temps})\n",
    "#cinq_top"
   ]
  },
  {
   "cell_type": "code",
   "execution_count": 149,
   "id": "07653e02",
   "metadata": {},
   "outputs": [],
   "source": [
    "cinq_top['resultat'] =0 \n",
    "cinq_top.loc[cinq_top['score']>=50,'resultat']=1\n",
    "#cinq_top"
   ]
  },
  {
   "cell_type": "code",
   "execution_count": 150,
   "id": "f8a28ffd",
   "metadata": {},
   "outputs": [],
   "source": [
    "cinq_top['temps']=cinq_top['temps']/60\n",
    "#cinq_top.sort_values(by='temps',ascending=True)"
   ]
  },
  {
   "cell_type": "code",
   "execution_count": 151,
   "id": "f8c97fb7",
   "metadata": {},
   "outputs": [],
   "source": [
    "six5=TOP10_MODULE.iloc[5,:]\n",
    "#six5"
   ]
  },
  {
   "cell_type": "code",
   "execution_count": 152,
   "id": "35e14f84",
   "metadata": {},
   "outputs": [],
   "source": [
    "six=PRIN_TOP.loc[(PRIN_TOP['object_id']=='765-urlaub'),:]\n",
    "#six"
   ]
  },
  {
   "cell_type": "code",
   "execution_count": 153,
   "id": "6901ae27",
   "metadata": {},
   "outputs": [],
   "source": [
    "six_score=six.groupby(['actor']).score.max()\n",
    "six_temps=six.groupby(['actor']).temps.sum()\n",
    "six_session=six.groupby(['actor']).session_uuid.count()"
   ]
  },
  {
   "cell_type": "code",
   "execution_count": 154,
   "id": "4d6ce186",
   "metadata": {},
   "outputs": [],
   "source": [
    "six_top=pd.DataFrame({'session':six_session,'score':six_score,'temps':six_temps})\n",
    "#six_top"
   ]
  },
  {
   "cell_type": "code",
   "execution_count": 155,
   "id": "4a064f94",
   "metadata": {},
   "outputs": [],
   "source": [
    "six_top['resultat'] =0 \n",
    "six_top.loc[six_top['score']>=50,'resultat']=1\n",
    "#six_top"
   ]
  },
  {
   "cell_type": "code",
   "execution_count": 156,
   "id": "cdd2ced8",
   "metadata": {},
   "outputs": [],
   "source": [
    "six_top['temps']=six_top['temps']/60\n",
    "#six_top.sort_values(by='temps',ascending=True)"
   ]
  },
  {
   "cell_type": "code",
   "execution_count": 157,
   "id": "d23af07d",
   "metadata": {},
   "outputs": [],
   "source": [
    "sept6=TOP10_MODULE.iloc[6,:]\n",
    "#sept6"
   ]
  },
  {
   "cell_type": "code",
   "execution_count": 158,
   "id": "197222a0",
   "metadata": {},
   "outputs": [],
   "source": [
    "sept=PRIN_TOP.loc[(PRIN_TOP['object_id']=='766-unbezahlter-urlaub'),:]\n",
    "#sept"
   ]
  },
  {
   "cell_type": "code",
   "execution_count": 159,
   "id": "b2aa3c91",
   "metadata": {},
   "outputs": [],
   "source": [
    "sept_score=sept.groupby(['actor']).score.max()\n",
    "sept_temps=sept.groupby(['actor']).temps.sum()\n",
    "sept_session=sept.groupby(['actor']).session_uuid.count()"
   ]
  },
  {
   "cell_type": "code",
   "execution_count": 160,
   "id": "70de626f",
   "metadata": {},
   "outputs": [],
   "source": [
    "sept_top=pd.DataFrame({'session':sept_session,'score':sept_score,'temps':sept_temps})\n",
    "#sept_top"
   ]
  },
  {
   "cell_type": "code",
   "execution_count": 161,
   "id": "cb26aec1",
   "metadata": {},
   "outputs": [],
   "source": [
    "sept_top['resultat'] =0 \n",
    "sept_top.loc[sept_top['score']>=50,'resultat']=1\n",
    "#sept_top"
   ]
  },
  {
   "cell_type": "code",
   "execution_count": 162,
   "id": "834873f4",
   "metadata": {},
   "outputs": [],
   "source": [
    "sept_top['temps']=sept_top['temps']/60\n",
    "#sept_top.sort_values(by='temps',ascending=True)"
   ]
  },
  {
   "cell_type": "code",
   "execution_count": 163,
   "id": "3d388f97",
   "metadata": {},
   "outputs": [],
   "source": [
    "huit7=TOP10_MODULE.iloc[7,:]\n",
    "#huit7"
   ]
  },
  {
   "cell_type": "code",
   "execution_count": 164,
   "id": "a35b58ae",
   "metadata": {},
   "outputs": [],
   "source": [
    "huit=PRIN_TOP.loc[(PRIN_TOP['object_id']=='729-salaire'),:]\n",
    "#huit"
   ]
  },
  {
   "cell_type": "code",
   "execution_count": 165,
   "id": "4766a76a",
   "metadata": {},
   "outputs": [],
   "source": [
    "huit_score=huit.groupby(['actor']).score.max()\n",
    "huit_temps=huit.groupby(['actor']).temps.sum()\n",
    "huit_session=huit.groupby(['actor']).session_uuid.count()"
   ]
  },
  {
   "cell_type": "code",
   "execution_count": 166,
   "id": "6236adf7",
   "metadata": {},
   "outputs": [],
   "source": [
    "huit_top=pd.DataFrame({'session':huit_session,'score':huit_score,'temps':huit_temps})\n",
    "#huit_top"
   ]
  },
  {
   "cell_type": "code",
   "execution_count": 167,
   "id": "a13f4938",
   "metadata": {},
   "outputs": [],
   "source": [
    "huit_top['resultat'] =0 \n",
    "huit_top.loc[huit_top['score']>=50,'resultat']=1\n",
    "#huit_top"
   ]
  },
  {
   "cell_type": "code",
   "execution_count": 168,
   "id": "ff5ca5ad",
   "metadata": {},
   "outputs": [],
   "source": [
    "huit_top['temps']=huit_top['temps']/60\n",
    "#huit_top.sort_values(by='temps',ascending=True)"
   ]
  },
  {
   "cell_type": "code",
   "execution_count": 169,
   "id": "c8ce44fd",
   "metadata": {},
   "outputs": [],
   "source": [
    "neuf8=TOP10_MODULE.iloc[8,:]\n",
    "#neuf8"
   ]
  },
  {
   "cell_type": "code",
   "execution_count": 170,
   "id": "424b6959",
   "metadata": {},
   "outputs": [],
   "source": [
    "neuf=PRIN_TOP.loc[(PRIN_TOP['object_id']=='747-modification-des-rapports-de-travail'),:]\n",
    "#neuf"
   ]
  },
  {
   "cell_type": "code",
   "execution_count": 171,
   "id": "e744095b",
   "metadata": {},
   "outputs": [],
   "source": [
    "neuf_score=neuf.groupby(['actor']).score.max()\n",
    "neuf_temps=neuf.groupby(['actor']).temps.sum()\n",
    "neuf_session=neuf.groupby(['actor']).session_uuid.count()"
   ]
  },
  {
   "cell_type": "code",
   "execution_count": 172,
   "id": "54ecc972",
   "metadata": {
    "scrolled": false
   },
   "outputs": [],
   "source": [
    "neuf_top=pd.DataFrame({'session':neuf_session,'score':neuf_score,'temps':neuf_temps})\n",
    "#neuf_top"
   ]
  },
  {
   "cell_type": "code",
   "execution_count": 173,
   "id": "a374b745",
   "metadata": {},
   "outputs": [],
   "source": [
    "neuf_top['resultat'] =0 \n",
    "neuf_top.loc[neuf_top['score']>=50,'resultat']=1\n",
    "#neuf_top"
   ]
  },
  {
   "cell_type": "code",
   "execution_count": 174,
   "id": "de9218fd",
   "metadata": {},
   "outputs": [],
   "source": [
    "neuf_top['temps']=neuf_top['temps']/60\n",
    "#neuf_top.sort_values(by='temps',ascending=True)"
   ]
  },
  {
   "cell_type": "markdown",
   "id": "3d533ac9",
   "metadata": {},
   "source": [
    "# Pour les 10 top module\n",
    "représenter par une courbe ces derniers dans un même repère sur une figure unique. A chaque apprenant correspond un point dont l’abscisse est le temps en minutes de celui-ci. L’ordonné est déterminé par son score maximum.\n",
    "\n",
    "\n",
    "Un diagramme en bâton avec le taux de réussite de chaque module. \n"
   ]
  },
  {
   "cell_type": "code",
   "execution_count": 190,
   "id": "3964f80a",
   "metadata": {},
   "outputs": [
    {
     "data": {
      "image/png": "[encoded data removed]",
      "text/plain": [
       "<Figure size 500x270 with 1 Axes>"
      ]
     },
     "metadata": {},
     "output_type": "display_data"
    }
   ],
   "source": [
    "\n",
    "fig, ax = plt.subplots(figsize=(5,2.7))\n",
    "ax.plot(premier_top['temps'], premier_top['score'], label='linear')    \n",
    "ax.set_xlabel('abscisse x')  \n",
    "ax.set_ylabel('ordonnée y')  \n",
    "ax.set_title(\"top10\") \n",
    "ax.legend();  \n",
    "\n",
    "ax.plot(dernier_top['temps'], dernier_top['score'], label='linear')    \n",
    "ax.set_xlabel('abscisse x')  \n",
    "ax.set_ylabel('ordonnée y')  \n",
    "ax.set_title(\"top10\") \n",
    "ax.legend();  \n",
    "\n",
    "ax.plot(deuxième_top['temps'], deuxième_top['score'], label='linear')    \n",
    "ax.set_xlabel('abscisse x')  \n",
    "ax.set_ylabel('ordonnée y')  \n",
    "ax.set_title(\"top10\") \n",
    "ax.legend();\n",
    "\n",
    "ax.plot(trois_top['temps'], trois_top['score'], label='linear')    \n",
    "ax.set_xlabel('abscisse x')  \n",
    "ax.set_ylabel('ordonnée y')  \n",
    "ax.set_title(\"top10\") \n",
    "ax.legend();\n",
    "\n",
    "ax.plot(quatre_top['temps'], quatre_top['score'], label='linear')    \n",
    "ax.set_xlabel('abscisse x')  \n",
    "ax.set_ylabel('ordonnée y')  \n",
    "ax.set_title(\"top10\") \n",
    "ax.legend();\n",
    "\n",
    "ax.plot(cinq_top['temps'], cinq_top['score'], label='linear')    \n",
    "ax.set_xlabel('abscisse x')  \n",
    "ax.set_ylabel('ordonnée y')  \n",
    "ax.set_title(\"top10\") \n",
    "ax.legend();\n",
    "\n",
    "ax.plot(six_top['temps'], six_top['score'], label='linear')    \n",
    "ax.set_xlabel('abscisse x')  \n",
    "ax.set_ylabel('ordonnée y')  \n",
    "ax.set_title(\"top10\") \n",
    "ax.legend();\n",
    "\n",
    "ax.plot(sept_top['temps'], sept_top['score'], label='linear')    \n",
    "ax.set_xlabel('abscisse x')  \n",
    "ax.set_ylabel('ordonnée y')  \n",
    "ax.set_title(\"top10\") \n",
    "ax.legend();\n",
    "\n",
    "ax.plot(huit_top['temps'], huit_top['score'], label='linear')    \n",
    "ax.set_xlabel('abscisse x')  \n",
    "ax.set_ylabel('ordonnée y')  \n",
    "ax.set_title(\"top10\") \n",
    "ax.legend();\n",
    "\n",
    "ax.plot(neuf_top['temps'], neuf_top['score'], label='linear')    \n",
    "ax.set_xlabel('abscisse x')  \n",
    "ax.set_ylabel('ordonnée y')  \n",
    "ax.set_title(\"TOP10\") \n",
    "ax.legend();\n",
    "\n",
    "ax.legend();"
   ]
  },
  {
   "cell_type": "code",
   "execution_count": 176,
   "id": "c3a06bc6",
   "metadata": {},
   "outputs": [
    {
     "data": {
      "text/plain": [
       "object_id\n",
       "752-etudes-de-cas-et-questions              99.186992\n",
       "734-risques-psychosociaux                   98.387097\n",
       "819-informatique                            98.305085\n",
       "755-verhalten-des-mitarbeitenden            97.872340\n",
       "761-fallstudien-und-fragen                  97.752809\n",
       "765-urlaub                                  97.727273\n",
       "766-unbezahlter-urlaub                      97.727273\n",
       "729-salaire                                 97.674419\n",
       "747-modification-des-rapports-de-travail    97.580645\n",
       "736-conge-non-paye                          96.721311\n",
       "Name: taux_reussite, dtype: float64"
      ]
     },
     "execution_count": 176,
     "metadata": {},
     "output_type": "execute_result"
    }
   ],
   "source": [
    "TOP10_MODULE['taux_reussite']"
   ]
  },
  {
   "cell_type": "code",
   "execution_count": 179,
   "id": "83719cc8",
   "metadata": {},
   "outputs": [
    {
     "data": {
      "image/png": "[encoded data removed]",
      "text/plain": [
       "<Figure size 1000x400 with 1 Axes>"
      ]
     },
     "metadata": {},
     "output_type": "display_data"
    }
   ],
   "source": [
    "fig, ax = plt.subplots(figsize=(10, 4), layout='constrained')\n",
    "categories = ['752-etudes-de-cas-et-questions','734-risques-psychosociaux',\n",
    "              '819-informatique','755-verhalten-des-mitarbeitenden','761-fallstudien-und-fragen',\n",
    "              '765-urlaub','766-unbezahlter-urlaub','729-salaire',\n",
    "              '747-modification-des-rapports-de-travail','736-conge-non-paye']\n",
    "\n",
    "\n",
    "ax.bar(categories, TOP10_MODULE[\"taux_reussite\"]);"
   ]
  },
  {
   "cell_type": "markdown",
   "id": "1ffe020d",
   "metadata": {},
   "source": [
    "# Pour les 3 top module\n",
    "représenter par une courbe chacun dans un même repère différent sur une même figure horizontalement subdivisée en trois. A chaque apprenant correspond un point dont l’abscisse est le rang de celui-ci. \n",
    "\n",
    "L’ordonné est déterminé par son score maximum.\n"
   ]
  },
  {
   "cell_type": "code",
   "execution_count": 180,
   "id": "ed7740af",
   "metadata": {},
   "outputs": [
    {
     "data": {
      "image/png": "[encoded data removed]",
      "text/plain": [
       "<Figure size 640x480 with 3 Axes>"
      ]
     },
     "metadata": {},
     "output_type": "display_data"
    }
   ],
   "source": [
    "\n",
    "fig, axs = plt.subplots(3, 1, sharex=True)\n",
    "fig.subplots_adjust(hspace=0)\n",
    "\n",
    "axs[0].plot(premiertop_tri['ranger'], premiertop_tri['score'], label='linear')    \n",
    "axs[0].set_xlabel('abscisse x')  \n",
    "axs[0].set_ylabel('ordonnée y')  \n",
    "axs[0].set_title(\"top_premier\") \n",
    "axs[0].legend();  \n",
    "\n",
    "axs[1].plot(deuxièmetop_tri['ranger'], deuxièmetop_tri['score'], label='linear')    \n",
    "axs[1].set_xlabel('abscisse x')  \n",
    "axs[1].set_ylabel('ordonnée y')  \n",
    "axs[1].set_title(\"top_deuxième\") \n",
    "axs[1].legend();\n",
    "\n",
    "axs[2].plot(troistop_tri['ranger'], troistop_tri['score'], label='linear')    \n",
    "axs[2].set_xlabel('abscisse x')  \n",
    "axs[2].set_ylabel('ordonnée y')  \n",
    "axs[2].set_title(\"top_trois\") \n",
    "axs[2].legend();\n",
    "\n"
   ]
  },
  {
   "cell_type": "markdown",
   "id": "ef024433",
   "metadata": {},
   "source": [
    "# Pour tous les modules:\n",
    "\n",
    "## représenter l’ensemble par un nuage de points dans un même repère sur une même figure. A chaque apprenant correspond un point dont l’abscisse est le rang de celui-ci. L’ordonné est déterminé par le temps global sur le module.\n",
    "## Un camembert avec le taux des modules catégorisés en quatre classes: \n",
    "## Classe A: taux de réussite > = 80%\n",
    "## Classe B: taux de réussite > = 60%\n",
    "## Classe C: taux de réussite > = 50%\n",
    "## Classe D: taux de réussite < 50%\n"
   ]
  },
  {
   "cell_type": "code",
   "execution_count": 183,
   "id": "37667fb7",
   "metadata": {
    "scrolled": true
   },
   "outputs": [
    {
     "data": {
      "image/png": "[encoded data removed]",
      "text/plain": [
       "<Figure size 1000x1000 with 1 Axes>"
      ]
     },
     "metadata": {},
     "output_type": "display_data"
    }
   ],
   "source": [
    "fig, ax = plt.subplots(figsize=(10, 10))\n",
    "ax.scatter(DATA_INIT['ranger'],DATA_INIT['temps'], s=100, facecolor='C0', edgecolor='k');"
   ]
  },
  {
   "cell_type": "code",
   "execution_count": 184,
   "id": "f606c86b",
   "metadata": {},
   "outputs": [
    {
     "data": {
      "text/plain": [
       "760"
      ]
     },
     "execution_count": 184,
     "metadata": {},
     "output_type": "execute_result"
    }
   ],
   "source": [
    "module_count=TRI_MODULE.size\n",
    "module_count"
   ]
  },
  {
   "cell_type": "code",
   "execution_count": 185,
   "id": "82660489",
   "metadata": {},
   "outputs": [
    {
     "data": {
      "image/png": "[encoded data removed]",
      "text/plain": [
       "<Figure size 640x480 with 1 Axes>"
      ]
     },
     "metadata": {},
     "output_type": "display_data"
    }
   ],
   "source": [
    "classe_A =TRI_MODULE.loc[TRI_MODULE['taux_reussite']>=80].size\n",
    "classe_B =TRI_MODULE.loc[(TRI_MODULE['taux_reussite']>=60)&(TRI_MODULE['taux_reussite']<80)].size\n",
    "classe_C =TRI_MODULE.loc[(TRI_MODULE['taux_reussite']>=50)&(TRI_MODULE['taux_reussite']<60)].size\n",
    "classe_D =TRI_MODULE.loc[TRI_MODULE['taux_reussite']<50].size\n",
    "classe_A=classe_A/module_count\n",
    "classe_B=classe_B/module_count\n",
    "classe_C=classe_C/module_count\n",
    "classe_D=classe_D/module_count\n",
    "classes=np.array([classe_A,classe_B,classe_C,classe_D])\n",
    "classes\n",
    "label=['classe_A','classe_B','classe_C','classe_D']\n",
    "\n",
    "plt.pie(classes, labels=label,autopct='%1.1f%%')\n",
    "plt.legend()\n",
    "plt.show()"
   ]
  },
  {
   "cell_type": "code",
   "execution_count": null,
   "id": "faf1de18",
   "metadata": {},
   "outputs": [],
   "source": [
    " def moduleDATA(self,cheminDATA):\n",
    "        self.DATA_INIT=pd.read_csv(cheminDATA, delimiter=\";\")\n",
    "        return DATA_INIT"
   ]
  },
  {
   "cell_type": "code",
   "execution_count": null,
   "id": "381d92e2",
   "metadata": {},
   "outputs": [],
   "source": [
    "def GRAPH_PI(self,TRI_MODULE):\n",
    "        TOPTRI()\n",
    "        module_count=self.TRI_MODULE.size\n",
    "        module_count\n",
    "        classe_A =self.TRI_MODULE.loc[self.TRI_MODULE['taux_reussite']>=80].size\n",
    "        classe_B =self.TRI_MODULE.loc[(self.TRI_MODULE['taux_reussite']>=60)&(self.TRI_MODULE['taux_reussite']<80)].size\n",
    "        classe_C =self.TRI_MODULE.loc[(self.TRI_MODULE['taux_reussite']>=50)&(self.TRI_MODULE['taux_reussite']<60)].size\n",
    "        classe_D =self.TRI_MODULE.loc[TRI_MODULE['taux_reussite']<50].size\n",
    "        classe_A=classe_A/module_count\n",
    "        classe_B=classe_B/module_count\n",
    "        classe_C=classe_C/module_count\n",
    "        classe_D=classe_D/module_count\n",
    "        classes=np.array([classe_A,classe_B,classe_C,classe_D])\n",
    "        classes\n",
    "        label=['classe_A','classe_B','classe_C','classe_D']\n"
   ]
  },
  {
   "cell_type": "code",
   "execution_count": null,
   "id": "150d3518",
   "metadata": {},
   "outputs": [],
   "source": [
    "def GRAPH_NUAGE(self,D):\n",
    "        moduleDATA()\n",
    "        dfi =self.moduleDATA(\"scorm_tracking_copy.csv\").groupby('object_id').agg({'temps':'sum'})/60\n",
    "        fig, ax = plt.subplots(figsize=(10, 10))\n",
    "    \n",
    "        dfi['rang']=[i for i in range(1,self.D.taux_reussite.size +1)]\n",
    "        data =dfi.to_numpy().T\n",
    "        ax.scatter(data[1],data[0], s=100, facecolor='C0', edgecolor='k');  "
   ]
  },
  {
   "cell_type": "code",
   "execution_count": null,
   "id": "db481033",
   "metadata": {},
   "outputs": [],
   "source": [
    "def GRAPH_TOP3(self,object):\n",
    "        moduleDATA()\n",
    "   \n",
    "        nbre_score= self.moduleDATA(\"scorm_tracking_copy.csv\").loc[self.moduleDATA(\"scorm_tracking_copy.csv\")['object_id']==object].groupby('actor').agg({'score':'max'})\n",
    "        nbre_score=nbre_score.sort_values(by=['score'],ascending=False)\n",
    "        nbre_score['rang']=[i for i in range(1,len(nbre_score)+1)]\n",
    "        nbre_score.reset_index()\n",
    "        nbre=nbre_score.to_numpy()\n",
    "        y=nbre[:,0]\n",
    "        x=nbre[:,1]\n",
    "\n",
    "        return x,y\n",
    "    fig,axs= plt.subplots(3,1,figsize=(10,5))\n",
    "\n",
    "    for i in range(0,F.index.size):\n",
    "        \n",
    "        x,y=GRAPH_TOP3(F.index[i])\n",
    "        axs[i].plot(x,y,label=F.index[i])\n",
    "        axs[i].set_title(F.index[i])\n",
    "        axs[i].set_xlabel('rang')\n",
    "        axs[i].set_ylabel('score')"
   ]
  },
  {
   "cell_type": "code",
   "execution_count": null,
   "id": "0d25c88e",
   "metadata": {},
   "outputs": [],
   "source": [
    "def GRAPH_B(self):\n",
    "        \n",
    "        fig, ax = plt.subplots(figsize=(10, 4), layout='constrained')\n",
    "        categories = ['752-etudes-de-cas-et-questions','734-risques-psychosociaux',\n",
    "                  '819-informatique','755-verhalten-des-mitarbeitenden','761-fallstudien-und-fragen',\n",
    "                  '765-urlaub','766-unbezahlter-urlaub','729-salaire',\n",
    "                  '747-modification-des-rapports-de-travail','736-conge-non-paye']\n",
    "\n",
    "\n",
    "        ax.bar(categories, DATATOP[\"taux_reussite\"]);"
   ]
  },
  {
   "cell_type": "code",
   "execution_count": null,
   "id": "ef1fd08a",
   "metadata": {},
   "outputs": [],
   "source": [
    "def GRAPH_TOP10(self,R):\n",
    "        moduleDATA()\n",
    "        plt.figure(figsize=(10,5))\n",
    "        for i in range(len(R.index)):\n",
    "            nbre_temps=round(self.moduleDATA(\"scorm_tracking_copy.csv\").loc[(self.moduleDATA(\"scorm_tracking_copy.csv\")['object_id']==R.index[i])].groupby('actor').agg({'temps':'sum'})/60,2)\n",
    "            nbre_score=self.moduleDATA(\"scorm_tracking_copy.csv\").loc[(self.moduleDATA(\"scorm_tracking_copy.csv\")['object_id']==R.index[i])].groupby('actor').agg({'score':'max'})\n",
    "            DATA_TOP10=pd.DataFrame({'score':nbre_score.score,'temps':nbre_temps.temps})\n",
    "            DATA_TOP10=DATA_TOP10.sort_values(by='temps', ascending=False )\n",
    "            plt.plot(DATA_TOP10['temps'],DATA_TOP10['score'],label=R.index[i])\n",
    "        plt.legend()\n",
    "\n",
    "        plt.show()\n",
    "        return DATA_TOP10"
   ]
  },
  {
   "cell_type": "code",
   "execution_count": null,
   "id": "f6981e00",
   "metadata": {},
   "outputs": [],
   "source": [
    "# DATA = moduleDAT(\"scorm_tracking_copy.csv\")\n",
    "# DATA.sort_values(by=['taux_reussite'],ascending=False, inplace=True)\n",
    "# DATATOP=TOPTRI(DATA)\n",
    "# F=TOPTRI(DATA)\n",
    "# nump(DATATOP)\n",
    "# premier= DATA.head(1)\n",
    "# premier.index[0]\n",
    "# D=MODULE_INFO(premier.index[0])    \n",
    "# dernier= DATA.tail(1)\n",
    "# dernier.index[0]\n",
    "# D=MODULE_INFO(dernier.index[0])\n",
    "# C= GRAPH_TOP10( DATATOP) \n",
    "# E= GRAPH_B()\n",
    "# G= GRAPH_TOP3(DATATOP)\n",
    "# K=GRAPH_NUAGE(DATA)"
   ]
  },
  {
   "cell_type": "code",
   "execution_count": null,
   "id": "d91cb54a",
   "metadata": {},
   "outputs": [],
   "source": [
    "\n",
    "\n",
    "#DATA.index[0]\n",
    "#GRAPH_TOP10( DATATOP)  \n"
   ]
  },
  {
   "cell_type": "code",
   "execution_count": null,
   "id": "78019778",
   "metadata": {},
   "outputs": [],
   "source": [
    "class DATAFRAME:\n",
    "\n",
    "    def __init__ (self,cheminDATA):\n",
    "        \n",
    "        self.DATA_INIT=pd.read_csv(cheminDATA, delimiter=\";\")\n",
    "        \n",
    "    \n",
    "    def moduleDAT(self):\n",
    "        \n",
    "        \n",
    "        actor=self.DATA_INIT.groupby('object_id').actor.nunique()\n",
    "        session_id=self.DATA_INIT.groupby('object_id').session_uuid.count()\n",
    "        score_min=self.DATA_INIT.groupby('object_id').score.min()\n",
    "        score_max=self.DATA_INIT.groupby('object_id').score.max()\n",
    "        DATAFRAME_MODULE=pd.DataFrame({'actor':actor,'session_uuid':session_id,'score_min':score_min,'score_max':score_max})\n",
    "        SCORE_SUP50=self.DATA_INIT[self.DATA_INIT['score' ] >=50]\n",
    "        nbre_reussite=SCORE_SUP50.groupby(['object_id','actor']).score.max()\n",
    "        nbre_reussite=nbre_reussite.reset_index()\n",
    "        nbre_r=nbre_reussite.groupby('object_id').score.count()\n",
    "        taux_reussite=(nbre_r/actor)*100\n",
    "        taux_reussite.sort_values(ascending = False)\n",
    "        DATAFRAME_MODULE['taux_reussite']=taux_reussite\n",
    "        DATAFRAME_MODULE['taux_reussite']=DATAFRAME_MODULE['taux_reussite'].fillna(0)\n",
    "\n",
    "        return  DATAFRAME_MODULE\n",
    "    \n",
    "\n",
    "\n",
    "\n",
    "\n",
    "    def TOPTRI10(self):\n",
    "        DATAFRAME_MODULE= self.moduleDAT()\n",
    "    \n",
    "        TRI_MODULE=DATAFRAME_MODULE.sort_values(by='taux_reussite', ascending=False)\n",
    "        TOP10_MODULE=TRI_MODULE.head(10)\n",
    "        return  TOP10_MODULE\n",
    "    \n",
    "    \n",
    "    def TOPTRI(self):\n",
    "        DATAFRAME_MODULE=self.moduleDAT()\n",
    "        TRI_MODULE=DATAFRAME_MODULE.sort_values(by='taux_reussite', ascending=False)\n",
    "        TOP3_MODULE=TRI_MODULE.head(3)\n",
    "        return  TOP3_MODULE\n",
    "    \n",
    "    def nump(self,T):\n",
    "        \n",
    "        TOP_T=T.to_numpy()\n",
    "        return TOP_T\n",
    "    \n",
    "    \n",
    "    \n",
    "    def MODULE_INFO(self,object_id):\n",
    "        \n",
    "        \n",
    "        tmp = self.DATA_INIT.loc[self.DATA_INIT.object_id==object_id].groupby('actor').agg({'session_uuid':'count','score':'max','temps':'sum'})\n",
    "        tmp['resultat'] =0\n",
    "        tmp.loc[tmp['score']>=50,'resultat']=1\n",
    "        tmp['temps']=tmp['temps']/60\n",
    "\n",
    "        return tmp\n",
    "    \n",
    "\n",
    "    def GRAPH_TOP10(self,R):\n",
    "        \n",
    "        plt.figure(figsize=(10,5))\n",
    "        for i in range(len(R.index)):\n",
    "            nbre_temps=round(self.DATA_INIT.loc[(self.DATA_INIT['object_id']==R.index[i])].groupby('actor').agg({'temps':'sum'})/60,2)\n",
    "            nbre_score=self.DATA_INIT.loc[(self.DATA_INIT['object_id']==R.index[i])].groupby('actor').agg({'score':'max'})\n",
    "            DATA_TOP10=pd.DataFrame({'score':nbre_score.score,'temps':nbre_temps.temps})\n",
    "            DATA_TOP10=DATA_TOP10.sort_values(by='temps', ascending=False )\n",
    "            plt.plot(DATA_TOP10['temps'],DATA_TOP10['score'],label=R.index[i])\n",
    "        plt.legend()\n",
    "\n",
    "        plt.show()\n",
    "        return DATA_TOP10\n",
    "    \n",
    "    \n",
    "    def GRAPH_B(self):\n",
    "        \n",
    "        fig, ax = plt.subplots(figsize=(10, 4), layout='constrained')\n",
    "        categories = ['752-etudes-de-cas-et-questions','734-risques-psychosociaux',\n",
    "                  '819-informatique','755-verhalten-des-mitarbeitenden','761-fallstudien-und-fragen',\n",
    "                  '765-urlaub','766-unbezahlter-urlaub','729-salaire',\n",
    "                  '747-modification-des-rapports-de-travail','736-conge-non-paye']\n",
    "\n",
    "\n",
    "        ax.bar(categories, DATATOP[\"taux_reussite\"]);\n",
    "        \n",
    "        \n",
    "        \n",
    "    def GRAPH_TOP3(self,object):\n",
    "       \n",
    "   \n",
    "        nbre_score= self.DATA_INIT.loc[self.DATA_INIT['object_id']==object].groupby('actor').agg({'score':'max'})\n",
    "        nbre_score=nbre_score.sort_values(by=['score'],ascending=False)\n",
    "        nbre_score['rang']=[i for i in range(1,len(nbre_score)+1)]\n",
    "        nbre_score.reset_index()\n",
    "        nbre=nbre_score.to_numpy()\n",
    "        y=nbre[:,0]\n",
    "        x=nbre[:,1]\n",
    "\n",
    "        return x,y\n",
    "    \n",
    "    def RAPPEL(self,F):\n",
    "        \n",
    "    \n",
    "        fig,axs= plt.subplots(3,1,figsize=(10,5))\n",
    "\n",
    "        for i in range(0,F.index.size):\n",
    "\n",
    "            x,y=self.GRAPH_TOP3(F.index[i])\n",
    "            axs[i].plot(x,y,label=F.index[i])\n",
    "            axs[i].set_title(F.index[i])\n",
    "            axs[i].set_xlabel('rang')\n",
    "            axs[i].set_ylabel('score')\n",
    "        \n",
    "    def GRAPH_NUAGE(self):\n",
    "        \n",
    "        dfi =self.DATA_INIT.groupby('object_id').agg({'temps':'sum'})/60\n",
    "        fig, ax = plt.subplots(figsize=(10, 10))\n",
    "    \n",
    "        dfi['rang']=[i for i in range(1,self.moduleDAT().taux_reussite.size +1)]\n",
    "        data =dfi.to_numpy().T\n",
    "        ax.scatter(data[1],data[0], s=100, facecolor='C0', edgecolor='k');  \n",
    "        \n",
    "        \n",
    "    def GRAPH_PI(self):\n",
    "        \n",
    "        module_count=self.moduleDAT().size\n",
    "        module_count\n",
    "        classe_A =self.moduleDAT().loc[self.moduleDAT()['taux_reussite']>=80].size\n",
    "        classe_B =self.moduleDAT().loc[(self.moduleDAT()['taux_reussite']>=60)&(self.moduleDAT()['taux_reussite']<80)].size\n",
    "        classe_C =self.moduleDAT().loc[(self.moduleDAT()['taux_reussite']>=50)&(self.moduleDAT()['taux_reussite']<60)].size\n",
    "        classe_D =self.moduleDAT().loc[self.moduleDAT()['taux_reussite']<50].size\n",
    "        classe_A=classe_A/module_count\n",
    "        classe_B=classe_B/module_count\n",
    "        classe_C=classe_C/module_count\n",
    "        classe_D=classe_D/module_count\n",
    "        classes=np.array([classe_A,classe_B,classe_C,classe_D])\n",
    "        classes\n",
    "        label=['classe_A','classe_B','classe_C','classe_D']\n",
    "\n",
    "        plt.pie(classes, labels=label,autopct='%1.1f%%')\n",
    "        plt.legend()\n",
    "        plt.show()\n",
    "\n",
    "\n",
    "\n",
    "\n"
   ]
  },
  {
   "cell_type": "code",
   "execution_count": null,
   "id": "34250119",
   "metadata": {},
   "outputs": [],
   "source": [
    "FRAME=DATAFRAME(\"scorm_tracking_copy.csv\")\n",
    "# FRAME.moduleDAT()"
   ]
  },
  {
   "cell_type": "code",
   "execution_count": null,
   "id": "cde3dd90",
   "metadata": {},
   "outputs": [],
   "source": [
    "# FRAME.TOPTRI10()"
   ]
  },
  {
   "cell_type": "code",
   "execution_count": null,
   "id": "d82c13b5",
   "metadata": {},
   "outputs": [],
   "source": [
    "# FRAME.MODULE_INFO('828-quiz')"
   ]
  },
  {
   "cell_type": "code",
   "execution_count": null,
   "id": "e40dd55e",
   "metadata": {},
   "outputs": [],
   "source": [
    "# FRAME.GRAPH_TOP10(FRAME.TOPTRI10())"
   ]
  },
  {
   "cell_type": "code",
   "execution_count": null,
   "id": "fd38b989",
   "metadata": {},
   "outputs": [],
   "source": [
    "# FRAME.GRAPH_B()"
   ]
  },
  {
   "cell_type": "code",
   "execution_count": null,
   "id": "4911ea46",
   "metadata": {},
   "outputs": [],
   "source": [
    "# FRAME.GRAPH_NUAGE()"
   ]
  },
  {
   "cell_type": "code",
   "execution_count": null,
   "id": "551f66a0",
   "metadata": {},
   "outputs": [],
   "source": [
    "# FRAME.GRAPH_PI()"
   ]
  },
  {
   "cell_type": "code",
   "execution_count": null,
   "id": "c113e821",
   "metadata": {},
   "outputs": [],
   "source": [
    "# FRAME.TOPTRI()"
   ]
  },
  {
   "cell_type": "code",
   "execution_count": null,
   "id": "6cc8910a",
   "metadata": {},
   "outputs": [],
   "source": [
    "# FRAME.RAPPEL(FRAME.TOPTRI())"
   ]
  }
 ],
 "metadata": {
  "kernelspec": {
   "display_name": "Python 3 (ipykernel)",
   "language": "python",
   "name": "python3"
  },
  "language_info": {
   "codemirror_mode": {
    "name": "ipython",
    "version": 3
   },
   "file_extension": ".py",
   "mimetype": "text/x-python",
   "name": "python",
   "nbconvert_exporter": "python",
   "pygments_lexer": "ipython3",
   "version": "3.9.13"
  }
 },
 "nbformat": 4,
 "nbformat_minor": 5
}
